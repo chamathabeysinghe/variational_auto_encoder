{
 "cells": [
  {
   "cell_type": "code",
   "execution_count": 2,
   "metadata": {},
   "outputs": [],
   "source": [
    "import tensorflow as tf\n",
    "from tensorflow.keras.datasets import mnist\n",
    "import numpy as np\n",
    "from PIL import Image\n",
    "import matplotlib.pyplot as plt\n",
    "from visdom import Visdom\n",
    "%matplotlib inline"
   ]
  },
  {
   "cell_type": "code",
   "execution_count": 58,
   "metadata": {},
   "outputs": [
    {
     "name": "stderr",
     "output_type": "stream",
     "text": [
      "WARNING: Logging before flag parsing goes to stderr.\n",
      "W0305 11:04:03.590980 4552879424 __init__.py:505] Setting up a new session...\n"
     ]
    }
   ],
   "source": [
    "vis = Visdom()"
   ]
  },
  {
   "cell_type": "markdown",
   "metadata": {},
   "source": [
    "## Make dataset"
   ]
  },
  {
   "cell_type": "code",
   "execution_count": 56,
   "metadata": {},
   "outputs": [],
   "source": [
    "def imresize(arr, size):\n",
    "    return np.array(Image.fromarray(arr).resize(size))"
   ]
  },
  {
   "cell_type": "code",
   "execution_count": 14,
   "metadata": {},
   "outputs": [],
   "source": [
    "def sample_one(canvas_size, mnist):\n",
    "    i = np.random.randint(mnist['digits'].shape[0])\n",
    "    digit = mnist['digits'][i]\n",
    "    label = mnist['labels'][i].item()\n",
    "    scale = 0.1 * np.random.randn() + 1.3\n",
    "    new_size = tuple(int(s / scale) for s in digit.shape)\n",
    "    resized = imresize(digit, new_size)\n",
    "    w = resized.shape[0]\n",
    "    assert w == resized.shape[1]\n",
    "    padding = canvas_size - w\n",
    "    pad_l = np.random.randint(0, padding)\n",
    "    pad_r = np.random.randint(0, padding)\n",
    "    pad_width = ((pad_l, padding - pad_l), (pad_r, padding - pad_r))\n",
    "    positioned = np.pad(resized, pad_width, 'constant', constant_values=0)\n",
    "    return positioned, label"
   ]
  },
  {
   "cell_type": "code",
   "execution_count": 13,
   "metadata": {},
   "outputs": [],
   "source": [
    "def sample_multi(num_digits, canvas_size, mnist):\n",
    "    canvas = np.zeros((canvas_size, canvas_size))\n",
    "    labels = []\n",
    "    for _ in range(num_digits):\n",
    "        positioned_digit, label = sample_one(canvas_size, mnist)\n",
    "        canvas += positioned_digit\n",
    "        labels.append(label)\n",
    "    # Crude check for overlapping digits.\n",
    "    if np.max(canvas) > 255:\n",
    "        return sample_multi(num_digits, canvas_size, mnist)\n",
    "    else:\n",
    "        return canvas, labels"
   ]
  },
  {
   "cell_type": "code",
   "execution_count": 12,
   "metadata": {},
   "outputs": [],
   "source": [
    "def mk_dataset(n, mnist, max_digits, canvas_size):\n",
    "    x = []\n",
    "    y = []\n",
    "    for _ in range(n):\n",
    "        num_digits = np.random.randint(max_digits + 1)\n",
    "        canvas, labels = sample_multi(num_digits, canvas_size, mnist)\n",
    "        x.append(canvas)\n",
    "        y.append(labels)\n",
    "    return np.array(x, dtype=np.uint8), y"
   ]
  },
  {
   "cell_type": "code",
   "execution_count": 65,
   "metadata": {},
   "outputs": [],
   "source": [
    "(x_train, y_train), (x_test, y_test) = mnist.load_data()\n",
    "mnist_train = {'digits': x_train, 'labels': y_train}\n",
    "x, y = mk_dataset(200, mnist_train, 3, 50)"
   ]
  },
  {
   "cell_type": "code",
   "execution_count": 67,
   "metadata": {},
   "outputs": [],
   "source": [
    "for i in range(x.shape[0]):\n",
    "    vis.image(x[i])"
   ]
  },
  {
   "cell_type": "markdown",
   "metadata": {},
   "source": [
    "## Model"
   ]
  },
  {
   "cell_type": "code",
   "execution_count": 4,
   "metadata": {},
   "outputs": [],
   "source": [
    "x = np.linspace(-1, 1, 150)\n",
    "y = np.linspace(-1, 1, 150)\n",
    "x_t, y_t = np.meshgrid(x, y)"
   ]
  },
  {
   "cell_type": "code",
   "execution_count": 11,
   "metadata": {},
   "outputs": [],
   "source": [
    "ones = np.ones(np.prod(x_t.shape))"
   ]
  },
  {
   "cell_type": "code",
   "execution_count": 12,
   "metadata": {},
   "outputs": [
    {
     "data": {
      "text/plain": [
       "(22500,)"
      ]
     },
     "execution_count": 12,
     "metadata": {},
     "output_type": "execute_result"
    }
   ],
   "source": [
    "ones.shape"
   ]
  },
  {
   "cell_type": "code",
   "execution_count": 13,
   "metadata": {},
   "outputs": [],
   "source": [
    "sampling_grid = np.vstack([x_t.flatten(), y_t.flatten(), ones])\n"
   ]
  },
  {
   "cell_type": "code",
   "execution_count": 17,
   "metadata": {},
   "outputs": [],
   "source": [
    "sampling_grid = np.resize(sampling_grid, (2, 3, 150*150))\n"
   ]
  },
  {
   "cell_type": "code",
   "execution_count": null,
   "metadata": {},
   "outputs": [],
   "source": []
  }
 ],
 "metadata": {
  "kernelspec": {
   "display_name": "Python 3",
   "language": "python",
   "name": "python3"
  },
  "language_info": {
   "codemirror_mode": {
    "name": "ipython",
    "version": 3
   },
   "file_extension": ".py",
   "mimetype": "text/x-python",
   "name": "python",
   "nbconvert_exporter": "python",
   "pygments_lexer": "ipython3",
   "version": "3.7.4"
  }
 },
 "nbformat": 4,
 "nbformat_minor": 2
}
